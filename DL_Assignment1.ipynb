{
  "cells": [
    {
      "cell_type": "code",
      "execution_count": 28,
      "metadata": {
        "id": "Qk2T8nam_hGY"
      },
      "outputs": [],
      "source": [
        "import numpy as np\n",
        "import pandas as pd\n",
        "import matplotlib.pyplot as plt\n",
        "from tensorflow import keras\n",
        "from keras.datasets import fashion_mnist"
      ]
    },
    {
      "cell_type": "code",
      "execution_count": 29,
      "metadata": {
        "colab": {
          "base_uri": "https://localhost:8080/"
        },
        "id": "MSN5J7VcYy3N",
        "outputId": "c088f39c-a5e0-47a7-e8fa-77e343a6e0d4"
      },
      "outputs": [
        {
          "name": "stdout",
          "output_type": "stream",
          "text": [
            "Looking in indexes: https://pypi.org/simple, https://us-python.pkg.dev/colab-wheels/public/simple/\n",
            "Requirement already satisfied: wandb in /usr/local/lib/python3.8/dist-packages (0.13.10)\n",
            "Requirement already satisfied: setuptools in /usr/local/lib/python3.8/dist-packages (from wandb) (57.4.0)\n",
            "Requirement already satisfied: typing-extensions in /usr/local/lib/python3.8/dist-packages (from wandb) (4.5.0)\n",
            "Requirement already satisfied: requests<3,>=2.0.0 in /usr/local/lib/python3.8/dist-packages (from wandb) (2.25.1)\n",
            "Requirement already satisfied: pathtools in /usr/local/lib/python3.8/dist-packages (from wandb) (0.1.2)\n",
            "Requirement already satisfied: docker-pycreds>=0.4.0 in /usr/local/lib/python3.8/dist-packages (from wandb) (0.4.0)\n",
            "Requirement already satisfied: protobuf!=4.21.0,<5,>=3.12.0 in /usr/local/lib/python3.8/dist-packages (from wandb) (3.19.6)\n",
            "Requirement already satisfied: appdirs>=1.4.3 in /usr/local/lib/python3.8/dist-packages (from wandb) (1.4.4)\n",
            "Requirement already satisfied: GitPython>=1.0.0 in /usr/local/lib/python3.8/dist-packages (from wandb) (3.1.31)\n",
            "Requirement already satisfied: sentry-sdk>=1.0.0 in /usr/local/lib/python3.8/dist-packages (from wandb) (1.16.0)\n",
            "Requirement already satisfied: psutil>=5.0.0 in /usr/local/lib/python3.8/dist-packages (from wandb) (5.4.8)\n",
            "Requirement already satisfied: PyYAML in /usr/local/lib/python3.8/dist-packages (from wandb) (6.0)\n",
            "Requirement already satisfied: setproctitle in /usr/local/lib/python3.8/dist-packages (from wandb) (1.3.2)\n",
            "Requirement already satisfied: Click!=8.0.0,>=7.0 in /usr/local/lib/python3.8/dist-packages (from wandb) (8.1.3)\n",
            "Requirement already satisfied: six>=1.4.0 in /usr/local/lib/python3.8/dist-packages (from docker-pycreds>=0.4.0->wandb) (1.15.0)\n",
            "Requirement already satisfied: gitdb<5,>=4.0.1 in /usr/local/lib/python3.8/dist-packages (from GitPython>=1.0.0->wandb) (4.0.10)\n",
            "Requirement already satisfied: urllib3<1.27,>=1.21.1 in /usr/local/lib/python3.8/dist-packages (from requests<3,>=2.0.0->wandb) (1.26.14)\n",
            "Requirement already satisfied: chardet<5,>=3.0.2 in /usr/local/lib/python3.8/dist-packages (from requests<3,>=2.0.0->wandb) (4.0.0)\n",
            "Requirement already satisfied: certifi>=2017.4.17 in /usr/local/lib/python3.8/dist-packages (from requests<3,>=2.0.0->wandb) (2022.12.7)\n",
            "Requirement already satisfied: idna<3,>=2.5 in /usr/local/lib/python3.8/dist-packages (from requests<3,>=2.0.0->wandb) (2.10)\n",
            "Requirement already satisfied: smmap<6,>=3.0.1 in /usr/local/lib/python3.8/dist-packages (from gitdb<5,>=4.0.1->GitPython>=1.0.0->wandb) (5.0.0)\n"
          ]
        }
      ],
      "source": [
        "!pip install wandb"
      ]
    },
    {
      "cell_type": "code",
      "execution_count": 3,
      "metadata": {
        "colab": {
          "base_uri": "https://localhost:8080/",
          "height": 222
        },
        "id": "EMMLL18MYuuI",
        "outputId": "86b5f493-841d-4171-8062-f6aad8833a02"
      },
      "outputs": [
        {
          "name": "stderr",
          "output_type": "stream",
          "text": [
            "ERROR:wandb.jupyter:Failed to detect the name of this notebook, you can set it manually with the WANDB_NOTEBOOK_NAME environment variable to enable code saving.\n"
          ]
        },
        {
          "data": {
            "application/javascript": "\n        window._wandbApiKey = new Promise((resolve, reject) => {\n            function loadScript(url) {\n            return new Promise(function(resolve, reject) {\n                let newScript = document.createElement(\"script\");\n                newScript.onerror = reject;\n                newScript.onload = resolve;\n                document.body.appendChild(newScript);\n                newScript.src = url;\n            });\n            }\n            loadScript(\"https://cdn.jsdelivr.net/npm/postmate/build/postmate.min.js\").then(() => {\n            const iframe = document.createElement('iframe')\n            iframe.style.cssText = \"width:0;height:0;border:none\"\n            document.body.appendChild(iframe)\n            const handshake = new Postmate({\n                container: iframe,\n                url: 'https://wandb.ai/authorize'\n            });\n            const timeout = setTimeout(() => reject(\"Couldn't auto authenticate\"), 5000)\n            handshake.then(function(child) {\n                child.on('authorize', data => {\n                    clearTimeout(timeout)\n                    resolve(data)\n                });\n            });\n            })\n        });\n    ",
            "text/plain": [
              "<IPython.core.display.Javascript object>"
            ]
          },
          "metadata": {},
          "output_type": "display_data"
        },
        {
          "name": "stderr",
          "output_type": "stream",
          "text": [
            "\u001b[34m\u001b[1mwandb\u001b[0m: Logging into wandb.ai. (Learn how to deploy a W&B server locally: https://wandb.me/wandb-server)\n",
            "\u001b[34m\u001b[1mwandb\u001b[0m: You can find your API key in your browser here: https://wandb.ai/authorize\n",
            "wandb: Paste an API key from your profile and hit enter, or press ctrl+c to quit:"
          ]
        },
        {
          "name": "stdout",
          "output_type": "stream",
          "text": [
            " ··········\n"
          ]
        },
        {
          "name": "stderr",
          "output_type": "stream",
          "text": [
            "\u001b[34m\u001b[1mwandb\u001b[0m: Appending key for api.wandb.ai to your netrc file: /root/.netrc\n"
          ]
        },
        {
          "data": {
            "text/html": [
              "Tracking run with wandb version 0.13.10"
            ],
            "text/plain": [
              "<IPython.core.display.HTML object>"
            ]
          },
          "metadata": {},
          "output_type": "display_data"
        },
        {
          "data": {
            "text/html": [
              "Run data is saved locally in <code>/content/wandb/run-20230301_123240-v24zfiek</code>"
            ],
            "text/plain": [
              "<IPython.core.display.HTML object>"
            ]
          },
          "metadata": {},
          "output_type": "display_data"
        },
        {
          "data": {
            "text/html": [
              "Syncing run <strong><a href='https://wandb.ai/cs22m013/assignmnet%201/runs/v24zfiek' target=\"_blank\">generous-fog-3</a></strong> to <a href='https://wandb.ai/cs22m013/assignmnet%201' target=\"_blank\">Weights & Biases</a> (<a href='https://wandb.me/run' target=\"_blank\">docs</a>)<br/>"
            ],
            "text/plain": [
              "<IPython.core.display.HTML object>"
            ]
          },
          "metadata": {},
          "output_type": "display_data"
        },
        {
          "data": {
            "text/html": [
              " View project at <a href='https://wandb.ai/cs22m013/assignmnet%201' target=\"_blank\">https://wandb.ai/cs22m013/assignmnet%201</a>"
            ],
            "text/plain": [
              "<IPython.core.display.HTML object>"
            ]
          },
          "metadata": {},
          "output_type": "display_data"
        },
        {
          "data": {
            "text/html": [
              " View run at <a href='https://wandb.ai/cs22m013/assignmnet%201/runs/v24zfiek' target=\"_blank\">https://wandb.ai/cs22m013/assignmnet%201/runs/v24zfiek</a>"
            ],
            "text/plain": [
              "<IPython.core.display.HTML object>"
            ]
          },
          "metadata": {},
          "output_type": "display_data"
        },
        {
          "data": {
            "text/html": [
              "<button onClick=\"this.nextSibling.style.display='block';this.style.display='none';\">Display W&B run</button><iframe src='https://wandb.ai/cs22m013/assignmnet%201/runs/v24zfiek?jupyter=true' style='border:none;width:100%;height:420px;display:none;'></iframe>"
            ],
            "text/plain": [
              "<wandb.sdk.wandb_run.Run at 0x7fb6110562b0>"
            ]
          },
          "execution_count": 3,
          "metadata": {},
          "output_type": "execute_result"
        }
      ],
      "source": [
        "import wandb\n",
        "wandb.init(\n",
        "    project=\"assignmnet 1\",\n",
        ")"
      ]
    },
    {
      "cell_type": "code",
      "execution_count": 30,
      "metadata": {
        "id": "yznI2dZh_3lp"
      },
      "outputs": [],
      "source": [
        "fashion_mnist = keras.datasets.fashion_mnist\n",
        "(train_images, train_labels), (test_images, test_labels) = fashion_mnist.load_data()"
      ]
    },
    {
      "cell_type": "markdown",
      "metadata": {
        "id": "FPp3CkYsVnzV"
      },
      "source": [
        "Download the fashion-MNIST dataset and plot 1 sample image for each class"
      ]
    },
    {
      "cell_type": "code",
      "execution_count": 31,
      "metadata": {
        "colab": {
          "base_uri": "https://localhost:8080/",
          "height": 255
        },
        "id": "YS_HQgVWCXPA",
        "outputId": "b9fd0697-ea79-42b3-a9b2-c3bd5f39f31d"
      },
      "outputs": [
        {
          "data": {
            "image/png": "[encoded data removed]",
            "text/plain": [
              "<Figure size 720x720 with 10 Axes>"
            ]
          },
          "metadata": {},
          "output_type": "display_data"
        }
      ],
      "source": [
        "class_names = ['T-shirt/top', 'Trouser', 'Pullover', 'Dress', 'Coat', 'Sandal', 'Shirt', 'Sneaker', 'Bag', 'Ankle boot']\n",
        "k=len(class_names)\n",
        "images_plot,count=[],0\n",
        "for i in range(len(train_images)):\n",
        "  if(count>=k): break\n",
        "  if(count==train_labels[i]):\n",
        "    images_plot.append(train_images[i])\n",
        "    count+=1\n",
        "\n",
        "plt.figure(figsize=(10,10))\n",
        "for i in range(10):\n",
        "     plt.subplot(5,5,i+1)\n",
        "     plt.xticks([])\n",
        "     plt.yticks([])\n",
        "     plt.imshow(images_plot[i], cmap=plt.cm.binary)\n",
        "     plt.xlabel(class_names[i])\n"
      ]
    },
    {
      "cell_type": "markdown",
      "metadata": {
        "id": "YZKKdsr5V6p0"
      },
      "source": [
        "Implement a feedforward neural network which takes images from the fashion-mnist data as input and outputs a probability distribution over the 10 classes.\n",
        "\n"
      ]
    },
    {
      "cell_type": "code",
      "execution_count": 32,
      "metadata": {
        "id": "QCnM5WxeC1H9"
      },
      "outputs": [],
      "source": [
        "#flat the input\n",
        "image_size=28*28\n",
        "train_images_X=np.zeros(shape=(len(train_images),(28*28)),dtype='float32')  #60000x728\n",
        "test_images_X=np.zeros(shape=(len(test_images),(28*28)),dtype='float32')    #10000x728\n",
        "\n",
        "for i in range(len(train_images)):\n",
        "  train_images_X[i]=train_images[i].flatten()/255\n",
        "for i in range(len(test_images)):\n",
        "  test_images_X[i]=test_images[i].flatten()/255\n",
        "\n",
        "#one hot encoding \n",
        "def one_hot(i):\n",
        "  y=np.zeros((10,1))\n",
        "  y[i]=1\n",
        "  return y\n"
      ]
    },
    {
      "cell_type": "code",
      "execution_count": 33,
      "metadata": {
        "id": "3ohmsqeLCPWk"
      },
      "outputs": [],
      "source": [
        "def sigmoid(x):\n",
        "   x=x-max(x)\n",
        "   return 1./(1.+np.exp(-x))\n",
        "\n",
        "def derivative_relu(x):\n",
        "  return 1 if x>0 else 0\n",
        "\n",
        "def relu(x):\n",
        "  return max(x) if max(x)>0 else 0\n",
        "\n",
        "def softmax(x):\n",
        "  x=x-max(x)\n",
        "  return np.exp(x)/np.sum(np.exp(x))\n",
        "\n",
        "def derivative_sigmoid(x):\n",
        "  return sigmoid(x)*(np.ones_like(x)-sigmoid(x))\n",
        "\n",
        "def cross_entropy(true_output,predicted_output):\n",
        "  return -1.0*np.sum(true_output*np.log(predicted_output+1e-9))\n",
        "\n"
      ]
    },
    {
      "cell_type": "code",
      "execution_count": 34,
      "metadata": {
        "id": "DzXcHTdELGKv"
      },
      "outputs": [],
      "source": [
        "def activation_function(funct,x,derivative=False):\n",
        "  if derivative==True:\n",
        "    if funct==\"sigmoid\":\n",
        "      return derivative_sigmoid(x)\n",
        "    if funct==\"relu\":\n",
        "      return derivative_relu(x)\n",
        "  \n",
        "  else:\n",
        "    if funct==\"sigmoid\":\n",
        "      return sigmoid(x)\n",
        "    if funct==\"relu\":\n",
        "      return relu(x)\n",
        "  "
      ]
    },
    {
      "cell_type": "code",
      "execution_count": 35,
      "metadata": {
        "id": "djYNH5RPz-Xn"
      },
      "outputs": [],
      "source": [
        "def init_zero(number_of_neurons,number_hidden_layers,k):\n",
        "  parameters={}\n",
        "  parameters['W'+str(1)]=np.zeros((number_of_neurons,image_size))\n",
        "  parameters['b'+str(1)]=np.zeros((number_of_neurons,1))\n",
        "  for i in range(2,number_hidden_layers+1):\n",
        "    parameters['W'+str(i)]=np.zeros((number_of_neurons,number_of_neurons))\n",
        "    parameters['b'+str(i)]=np.zeros((number_of_neurons,1))\n",
        "  parameters['W'+str(number_hidden_layers+1)]=np.zeros((k,number_of_neurons))\n",
        "  parameters['b'+str(number_hidden_layers+1)]=np.zeros((k,1))\n",
        "  return parameters\n",
        "\n",
        "def accuracy(X,y,params):\n",
        "  cnt=0\n",
        "  for i in range(len(X)):\n",
        "    predicted_y,activation,pre_activation=feed_forward(number_hidden_layers,params,hidden_layer_size,k,X[i])\n",
        "    if(np.argmax(predicted_y)==y[i]):\n",
        "      cnt+=1\n",
        "  print(cnt/len(X)*100)\n",
        "  "
      ]
    },
    {
      "cell_type": "code",
      "execution_count": 36,
      "metadata": {
        "id": "Sb3aVZrFnltj"
      },
      "outputs": [],
      "source": [
        "#feed forward\n",
        "def xavier_init(n_in, n_out):\n",
        "    return np.random.default_rng().uniform(low=-0.69,high=0.69,size=(n_in,n_out))\n",
        "\n",
        "def initialize_parameters(number_of_neurons,number_hidden_layers,k):\n",
        "  parameters={}\n",
        "  previous_parameters={}\n",
        "  parameters['W'+str(1)]=xavier_init(number_of_neurons,image_size)\n",
        "  parameters['b'+str(1)]=xavier_init(number_of_neurons,1)\n",
        "  for i in range(2,number_hidden_layers+1):\n",
        "    parameters['W'+str(i)]=xavier_init(number_of_neurons,number_of_neurons)\n",
        "    parameters['b'+str(i)]=xavier_init(number_of_neurons,1)\n",
        "  parameters['W'+str(number_hidden_layers+1)]=xavier_init(k,number_of_neurons)\n",
        "  parameters['b'+str(number_hidden_layers+1)]=xavier_init(k,1)\n",
        "  return parameters\n",
        "\n",
        "\n"
      ]
    },
    {
      "cell_type": "code",
      "execution_count": 37,
      "metadata": {
        "id": "yTyjhlDWKtgT"
      },
      "outputs": [],
      "source": [
        "def update_parameters(parameters,gradient_change,learning_rate):\n",
        "  for i in range(1,len(parameters)//2+1):\n",
        "    parameters['W'+str(i)]=parameters['W'+str(i)]-learning_rate*gradient_change['W'+str(i)]\n",
        "    parameters['b'+str(i)]=parameters['b'+str(i)]-learning_rate*gradient_change['b'+str(i)]\n",
        "  return parameters\n",
        "\n",
        "def update_parameters_momentum(parameters,gradient_change,prior_updates,beta,learning_rate):\n",
        "  for i in range(1,len(parameters)//2+1):\n",
        "    prior_updates['W'+str(i)]=beta*prior_updates['W'+str(i)]+gradient_change['W'+str(i)]\n",
        "    parameters['W'+str(i)]=parameters['W'+str(i)]-learning_rate*prior_updates['W'+str(i)]\n",
        "\n",
        "    prior_updates['b'+str(i)]=beta*prior_updates['b'+str(i)]+gradient_change['b'+str(i)]\n",
        "    parameters['b'+str(i)]=parameters['b'+str(i)]-learning_rate*prior_updates['b'+str(i)]\n",
        "  return parameters,prior_updates\n",
        "\n",
        "def update_parameters_rmsprop(parameters,gradient_change,prior_updates,learning_rate,beta,batch_size):\n",
        "  epsilon=1e-9\n",
        "  for i in range(1,len(parameters)//2+1):\n",
        "    prior_updates['W'+str(i)]=beta*prior_updates['W'+str(i)]+(1-beta)*(gradient_change['W'+str(i)])**2\n",
        "    parameters['W'+str(i)]=parameters['W'+str(i)]-gradient_change['W'+str(i)]*(learning_rate/np.sqrt(prior_updates['W'+str(i)]+epsilon))\n",
        "\n",
        "    prior_updates['b'+str(i)]=beta*prior_updates['b'+str(i)]+(1-beta)*(gradient_change['b'+str(i)])**2\n",
        "    parameters['b'+str(i)]=parameters['b'+str(i)]-gradient_change['b'+str(i)]*(learning_rate/np.sqrt(prior_updates['b'+str(i)]+epsilon))\n",
        "  return parameters,prior_updates\n"
      ]
    },
    {
      "cell_type": "code",
      "execution_count": 38,
      "metadata": {
        "id": "OD0le4R0Rxad"
      },
      "outputs": [],
      "source": [
        "def feed_forward(number_hidden_layers,parameters,hidden_layer_size,k,data):\n",
        "  activation={}\n",
        "  pre_activation={}\n",
        "\n",
        "  activation['h0']=data.reshape(784,1)\n",
        "  for i in range(1,number_hidden_layers+1):\n",
        "    a=np.add(parameters['b'+str(i)],np.matmul(parameters['W'+str(i)],activation['h'+str(i-1)]))\n",
        "    h=sigmoid(a)\n",
        "    pre_activation['a'+str(i)]=a\n",
        "    activation['h'+str(i)]=h\n",
        "  \n",
        "  a=np.add(parameters['b'+str(number_hidden_layers+1)],np.matmul(parameters['W'+str(number_hidden_layers+1)],activation['h'+str(number_hidden_layers)]))\n",
        "  h=softmax(a)\n",
        "  pre_activation['a'+str(number_hidden_layers+1)]=a\n",
        "  activation['h'+str(number_hidden_layers+1)]=h\n",
        "  \n",
        "  return h,activation,pre_activation\n",
        "\n"
      ]
    },
    {
      "cell_type": "code",
      "execution_count": 39,
      "metadata": {
        "id": "1wGvXSHsKlxi"
      },
      "outputs": [],
      "source": [
        "#h:: activation a=:preactivation\n",
        "def back_propogation(parameters,activation,pre_activation,X,y,number_hidden_layers,predicted_y,k):\n",
        "\n",
        "  gradient_parameters,gradient_activation,gradient_preactivation={},{},{}\n",
        "\n",
        "  #compute output gradient\n",
        "  e_y=np.zeros((k,1))\n",
        "  e_y[y][0]=1\n",
        "  gradient_preactivation['a'+str(number_hidden_layers+1)]=-(e_y-predicted_y)\n",
        "\n",
        "  for t in range(number_hidden_layers+1,0,-1):\n",
        "    #compute gradients w.r.t parameters\n",
        "    gradient_parameters['W'+str(t)]=np.matmul(gradient_preactivation['a'+str(t)],activation['h'+str(t-1)].T)\n",
        "    gradient_parameters['b'+str(t)]=gradient_preactivation['a'+str(t)]\n",
        "    #print(t,gradient_parameters['W'+str(t)])\n",
        "    if(t==1):break\n",
        "    #compute gradients w.r.t layers below\n",
        "    gradient_activation['h'+str(t-1)]=np.matmul(parameters['W'+str(t)].T,gradient_preactivation['a'+str(t)])\n",
        "\n",
        "    #compute gradients w.r.t preactivation layer\n",
        "    gradient_preactivation['a'+str(t-1)]=np.multiply(gradient_activation['h'+str(t-1)],activation_function(\"sigmoid\",pre_activation['a'+str(t-1)],True))\n",
        "  #print(pre_activation)\n",
        "  return gradient_parameters"
      ]
    },
    {
      "cell_type": "code",
      "execution_count": 40,
      "metadata": {
        "id": "KbAL1t97X1dH"
      },
      "outputs": [],
      "source": [
        "def gradient_descent(number_hidden_layers,hidden_layer_size,batch_size,max_epochs,X,y,k,optimizer,learning_rate,beta):\n",
        "  parameters=initialize_parameters(hidden_layer_size,number_hidden_layers,k)\n",
        "  for epoch in range(max_epochs):\n",
        "    loss=0\n",
        "    cnt=0\n",
        "    for i in range(len(X)):\n",
        "      predicted_y,activation,pre_activation=feed_forward(number_hidden_layers,parameters,hidden_layer_size,k,X[i])\n",
        "      #print(activation['h4'])\n",
        "      \n",
        "      loss+=cross_entropy(one_hot(train_labels[i]),predicted_y)\n",
        "      gradient_parameters=back_propogation(parameters,activation,pre_activation,X[i],y[i],number_hidden_layers,predicted_y,k)\n",
        "      if( epoch==0 and i==0 and (optimizer=='momentum' or optimizer=='rmsprop')):\n",
        "        prior_updates=init_zero(hidden_layer_size,number_hidden_layers,k)\n",
        "\n",
        "      if(cnt==0):\n",
        "        gradient_change={}\n",
        "        gradient_change=gradient_parameters.copy()\n",
        "\n",
        "      else:\n",
        "        for iter in range(1,len(parameters)//2+1):\n",
        "          gradient_change['W'+str(iter)]+=gradient_parameters['W'+str(iter)]\n",
        "          gradient_change['b'+str(iter)]+=gradient_parameters['b'+str(iter)]\n",
        "      cnt+=1\n",
        "      \n",
        "      if(cnt%batch_size==0 or i==len(X)-1):\n",
        "        t=cnt if (i==len(X)-1) else batch_size\n",
        "        for it in range(1,len(parameters)//2+1):\n",
        "          gradient_change['W'+str(it)]=gradient_change['W'+str(it)]/t\n",
        "          gradient_change['b'+str(it)]=gradient_change['b'+str(it)]/t\n",
        "        cnt=0\n",
        "        if(optimizer=='sgd'):\n",
        "          parameters=update_parameters(parameters,gradient_change,learning_rate)\n",
        "        elif(optimizer=='momentum'):\n",
        "          parameters,prior_updates=update_parameters_momentum(parameters,gradient_change,prior_updates,learning_rate,beta)\n",
        "        elif(optimizer=='rmsprop'):\n",
        "          parameters,prior_updates=update_parameters_rmsprop(parameters,gradient_change,prior_updates,learning_rate,beta,t)\n",
        "        \n",
        "    print(epoch,loss/len(X))\n",
        "  return parameters"
      ]
    },
    {
      "cell_type": "code",
      "execution_count": null,
      "metadata": {},
      "outputs": [],
      "source": [
        "\n",
        "def gradient_descent_adam(number_hidden_layers,hidden_layer_size,batch_size,max_epochs,X,y,k,optimizer,learning_rate,beta):\n",
        "  beta1=0.9\n",
        "  beta2=0.99\n",
        "  parameters=initialize_parameters(hidden_layer_size,number_hidden_layers,k)\n",
        "  momentum=init_zero(hidden_layer_size,number_hidden_layers,k)\n",
        "  momentum_hat=init_zero(hidden_layer_size,number_hidden_layers,k)\n",
        "  update=init_zero(hidden_layer_size,number_hidden_layers,k)\n",
        "  update_hat=init_zero(hidden_layer_size,number_hidden_layers,k)\n",
        "\n",
        "  for epoch in range(max_epochs):\n",
        "    loss=0\n",
        "    cnt=0\n",
        "    epsilon=1e-9\n",
        "    for i in range(len(X)):\n",
        "      predicted_y,activation,pre_activation=feed_forward(number_hidden_layers,parameters,hidden_layer_size,k,X[i])\n",
        "      #print(activation['h4'])\n",
        "      loss+=cross_entropy(one_hot(train_labels[i]),predicted_y)\n",
        "      gradient_parameters=back_propogation(parameters,activation,pre_activation,X[i],y[i],number_hidden_layers,predicted_y,k)\n",
        "      if(cnt==0):\n",
        "        gradient_change={}\n",
        "        gradient_change=gradient_parameters.copy()\n",
        "\n",
        "      else:\n",
        "        for iter in range(1,len(parameters)//2+1):\n",
        "          gradient_change['W'+str(iter)]+=gradient_parameters['W'+str(iter)]\n",
        "          gradient_change['b'+str(iter)]+=gradient_parameters['b'+str(iter)]\n",
        "      cnt+=1\n",
        "      \n",
        "      if(cnt%batch_size==0 or i==len(X)-1):\n",
        "        t=cnt if (i==len(X)-1) else batch_size\n",
        "        for it in range(1,len(parameters)//2+1):\n",
        "          gradient_change['W'+str(it)]=gradient_change['W'+str(it)]/t\n",
        "          gradient_change['b'+str(it)]=gradient_change['b'+str(it)]/t\n",
        "        \n",
        "        cnt=0\n",
        "        for it in range(1,len(parameters)//2+1):\n",
        "          momentum['W'+str(it)]=beta1*momentum['W'+str(it)]+(1-beta1)*gradient_change['W'+str(it)]\n",
        "          momentum['b'+str(it)]=beta1*momentum['b'+str(it)]+(1-beta1)*gradient_change['b'+str(it)]\n",
        "          momentum_hat['W'+str(it)]=momentum['W'+str(it)]/(1-beta1**(epoch+1))\n",
        "          momentum_hat['b'+str(it)]=momentum['b'+str(it)]/(1-beta1**(epoch+1))\n",
        "\n",
        "        for it in range(1,len(parameters)//2+1):\n",
        "          update['W'+str(it)]=beta2*update['W'+str(it)]+(1-beta2)*gradient_change['W'+str(it)]**2\n",
        "          update['b'+str(it)]=beta2*update['b'+str(it)]+(1-beta2)*gradient_change['b'+str(it)]**2\n",
        "          update_hat['W'+str(it)]=update['W'+str(it)]/(1-beta2**(epoch+1))\n",
        "          update_hat['b'+str(it)]=update['b'+str(it)]/(1-beta2**(epoch+1))\n",
        "\n",
        "        if(optimizer=='adam'):\n",
        "          for it in range(1,len(parameters)//2+1):\n",
        "            parameters['W'+str(it)]=parameters['W'+str(it)]-(learning_rate*momentum_hat['W'+str(it)]/np.sqrt(update_hat['W'+str(it)]+epsilon))\n",
        "            parameters['b'+str(it)]=parameters['b'+str(it)]-(learning_rate*momentum_hat['b'+str(it)]/np.sqrt(update_hat['b'+str(it)]+epsilon))\n",
        "        else:\n",
        "          for it in range(1,len(parameters)//2+1):\n",
        "            parameters['W'+str(it)]=parameters['W'+str(it)]-(learning_rate/np.sqrt(update_hat['W'+str(it)]+epsilon))*(beta1*momentum_hat['W'+str(it)]+(1-beta1)*gradient_change['W'+str(it)])\n",
        "            parameters['b'+str(it)]=parameters['b'+str(it)]-(learning_rate/np.sqrt(update_hat['b'+str(it)]+epsilon))*(beta1*momentum_hat['b'+str(it)]+(1-beta1)*gradient_change['b'+str(it)])\n",
        "          \n",
        "      \n",
        "          \n",
        "    print(epoch,loss/len(X))\n",
        "  return parameters\n"
      ]
    },
    {
      "cell_type": "code",
      "execution_count": null,
      "metadata": {
        "id": "5k0DvhiqZqyL"
      },
      "outputs": [],
      "source": [
        "number_hidden_layers=3\n",
        "hidden_layer_size=128\n",
        "batch_size=32\n",
        "max_epochs=1\n",
        "k=10\n",
        "optimizer='rmsprop'\n",
        "learning_rate=0.01\n",
        "beta=0.9\n",
        "params=gradient_descent(number_hidden_layers,hidden_layer_size,batch_size,max_epochs,train_images_X,train_labels,k,optimizer,learning_rate,beta)"
      ]
    },
    {
      "cell_type": "code",
      "execution_count": null,
      "metadata": {
        "id": "WcNxOl6sI0lT"
      },
      "outputs": [],
      "source": [
        "print(accuracy(train_images_X,train_labels,params))"
      ]
    },
    {
      "cell_type": "code",
      "execution_count": null,
      "metadata": {
        "id": "FGauwkatMAre"
      },
      "outputs": [],
      "source": [
        "print(accuracy(test_images_X,test_labels,params))"
      ]
    },
    {
      "cell_type": "code",
      "execution_count": null,
      "metadata": {
        "id": "tB63tAmsMUty"
      },
      "outputs": [],
      "source": []
    }
  ],
  "metadata": {
    "colab": {
      "provenance": []
    },
    "kernelspec": {
      "display_name": "Python 3",
      "name": "python3"
    },
    "language_info": {
      "name": "python"
    }
  },
  "nbformat": 4,
  "nbformat_minor": 0
}
