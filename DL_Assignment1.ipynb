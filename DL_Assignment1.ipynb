{
  "cells": [
    {
      "cell_type": "code",
      "execution_count": 2,
      "metadata": {
        "id": "Qk2T8nam_hGY"
      },
      "outputs": [],
      "source": [
        "import numpy as np\n",
        "import pandas as pd\n",
        "import matplotlib.pyplot as plt\n",
        "from tensorflow import keras\n",
        "from keras.datasets import fashion_mnist\n",
        "from sklearn.model_selection import train_test_split\n",
        "from sklearn.metrics import classification_report, accuracy_score, confusion_matrix"
      ]
    },
    {
      "cell_type": "code",
      "execution_count": 3,
      "metadata": {
        "id": "yznI2dZh_3lp",
        "colab": {
          "base_uri": "https://localhost:8080/"
        },
        "outputId": "79ab78a5-a370-4569-89d2-1be7a4dc002a"
      },
      "outputs": [
        {
          "output_type": "stream",
          "name": "stdout",
          "text": [
            "Downloading data from https://storage.googleapis.com/tensorflow/tf-keras-datasets/train-labels-idx1-ubyte.gz\n",
            "29515/29515 [==============================] - 0s 0us/step\n",
            "Downloading data from https://storage.googleapis.com/tensorflow/tf-keras-datasets/train-images-idx3-ubyte.gz\n",
            "26421880/26421880 [==============================] - 2s 0us/step\n",
            "Downloading data from https://storage.googleapis.com/tensorflow/tf-keras-datasets/t10k-labels-idx1-ubyte.gz\n",
            "5148/5148 [==============================] - 0s 0us/step\n",
            "Downloading data from https://storage.googleapis.com/tensorflow/tf-keras-datasets/t10k-images-idx3-ubyte.gz\n",
            "4422102/4422102 [==============================] - 0s 0us/step\n"
          ]
        }
      ],
      "source": [
        "fashion_mnist = keras.datasets.fashion_mnist\n",
        "#(train_images, train_labels), (test_images, test_labels) = fashion_mnist.load_data()\n",
        "(X, y), (test_images, test_labels) = fashion_mnist.load_data()\n",
        "train_images, val_images, train_labels, val_labels = train_test_split(X, y, test_size=0.1, random_state=42)"
      ]
    },
    {
      "cell_type": "markdown",
      "metadata": {
        "id": "FPp3CkYsVnzV"
      },
      "source": [
        "Download the fashion-MNIST dataset and plot 1 sample image for each class"
      ]
    },
    {
      "cell_type": "code",
      "execution_count": 4,
      "metadata": {
        "colab": {
          "base_uri": "https://localhost:8080/",
          "height": 255
        },
        "id": "YS_HQgVWCXPA",
        "outputId": "a6099eab-2107-4c33-97aa-ff6989b19bef"
      },
      "outputs": [
        {
          "output_type": "display_data",
          "data": {
            "text/plain": [
              "<Figure size 720x720 with 10 Axes>"
            ],
            "image/png": "[encoded data removed]"
          },
          "metadata": {}
        }
      ],
      "source": [
        "class_names = ['T-shirt/top', 'Trouser', 'Pullover', 'Dress', 'Coat', 'Sandal', 'Shirt', 'Sneaker', 'Bag', 'Ankle boot']\n",
        "k=len(class_names)\n",
        "images_plot,count=[],0\n",
        "for i in range(len(train_images)):\n",
        "  if(count>=k): break\n",
        "  if(count==train_labels[i]):\n",
        "    images_plot.append(train_images[i])\n",
        "    count+=1\n",
        "\n",
        "plt.figure(figsize=(10,10))\n",
        "for i in range(10):\n",
        "     plt.subplot(5,5,i+1)\n",
        "     plt.xticks([])\n",
        "     plt.yticks([])\n",
        "     plt.imshow(images_plot[i], cmap=plt.cm.binary)\n",
        "     plt.xlabel(class_names[i])\n"
      ]
    },
    {
      "cell_type": "markdown",
      "metadata": {
        "id": "YZKKdsr5V6p0"
      },
      "source": [
        "Implement a feedforward neural network which takes images from the fashion-mnist data as input and outputs a probability distribution over the 10 classes.\n",
        "\n"
      ]
    },
    {
      "cell_type": "code",
      "execution_count": 5,
      "metadata": {
        "id": "QCnM5WxeC1H9"
      },
      "outputs": [],
      "source": [
        "#flat the input\n",
        "image_size=28*28\n",
        "train_images_X=np.zeros(shape=(len(train_images),image_size),dtype='float32')  #60000x728\n",
        "test_images_X=np.zeros(shape=(len(test_images),image_size),dtype='float32')    #10000x728\n",
        "val_images_X=np.zeros(shape=(len(val_images),image_size),dtype='float32') \n",
        "\n",
        "for i in range(len(train_images)):\n",
        "  train_images_X[i]=train_images[i].flatten()/255\n",
        "\n",
        "for i in range(len(test_images)):\n",
        "  test_images_X[i]=test_images[i].flatten()/255\n",
        "\n",
        "for i in range(len(val_images)):\n",
        "  val_images_X[i]=val_images[i].flatten()/255\n",
        "\n",
        "def one_hot(i):\n",
        "  y=np.zeros((10,1))\n",
        "  y[i]=1\n",
        "  return y"
      ]
    },
    {
      "cell_type": "code",
      "execution_count": 6,
      "metadata": {
        "id": "3ohmsqeLCPWk"
      },
      "outputs": [],
      "source": [
        "def relu(x):\n",
        "    return np.maximum(0,x)\n",
        "\n",
        "def tanh(x):\n",
        "    return np.tanh(x)\n",
        "\n",
        "def sigmoid(x): \n",
        "   return 1./(1.+np.exp(-x))\n",
        "\n",
        "def derivative_relu(x):\n",
        "  return 1*(x>0) \n",
        "\n",
        "def softmax(x):\n",
        "  x=x-max(x)\n",
        "  return np.exp(x)/np.sum(np.exp(x))\n",
        "\n",
        "def derivative_sigmoid(x):\n",
        "  return sigmoid(x)*(np.ones_like(x)-sigmoid(x))\n",
        "\n",
        "def derivative_tanh(x):\n",
        "    return (1 - (np.tanh(x)**2))\n",
        "\n",
        "\n",
        "def cross_entropy(true_output,predicted_output):\n",
        "     return -1.0*np.sum(true_output*np.log(predicted_output+1e-9))\n",
        "  \n",
        "def l2loss(parameters,lamda):\n",
        "  l2loss=0\n",
        "  for i in range(1,len(parameters)//2+1):\n",
        "    l2loss+=(lamda/2)*np.sum(np.linalg.norm(parameters['W'+str(i)])**2)\n",
        "  return l2loss"
      ]
    },
    {
      "cell_type": "code",
      "execution_count": 7,
      "metadata": {
        "id": "anLyHw22E3Zv"
      },
      "outputs": [],
      "source": [
        "def activation_function(funct,x,derivative=False):\n",
        "  if derivative==True:\n",
        "    if funct==\"sigmoid\":\n",
        "      return derivative_sigmoid(x)\n",
        "    if funct==\"relu\":\n",
        "      return derivative_relu(x)\n",
        "    if funct==\"tanh\":\n",
        "      return derivative_tanh(x)\n",
        "  \n",
        "  else:\n",
        "    if funct==\"sigmoid\":\n",
        "      return sigmoid(x)\n",
        "    if funct==\"relu\":\n",
        "      return relu(x)\n",
        "    if funct==\"tanh\":\n",
        "      return tanh(x)\n",
        "  "
      ]
    },
    {
      "cell_type": "code",
      "source": [
        "def validation_loss(X,y,params,lamda):\n",
        "  cnt,loss=0,0\n",
        "  for i in range(len(X)):\n",
        "    predicted_y,activation,pre_activation=feed_forward(number_hidden_layers,params,hidden_layer_size,k,X[i],function)\n",
        "    loss+=cross_entropy(one_hot(y[i]),predicted_y)\n",
        "    if(np.argmax(predicted_y)==y[i]):\n",
        "      cnt+=1\n",
        "  loss+=l2loss(params,lamda)\n",
        "  print('Validation loss:', loss/len(X))\n",
        "  print('Validation accuracy:',cnt/len(X)*100)"
      ],
      "metadata": {
        "id": "v_bb4sYpoJLs"
      },
      "execution_count": 8,
      "outputs": []
    },
    {
      "cell_type": "code",
      "execution_count": 9,
      "metadata": {
        "id": "Sb3aVZrFnltj"
      },
      "outputs": [],
      "source": [
        "def init(n_in, n_out,initialization):\n",
        "    if(initialization=='normal'):\n",
        "      return np.random.default_rng().uniform(low=-0.69,high=0.69,size=(n_in,n_out))\n",
        "    if(initialization=='xavier'):\n",
        "      variance = 2.0 / (n_in + n_out)\n",
        "      std_dev = np.sqrt(variance)\n",
        "      weights = np.random.rand(n_in, n_out)\n",
        "      return weights/std_dev\n",
        "    if(initialization=='zero'):\n",
        "      return np.zeros((n_in,n_out))\n",
        "\n",
        "\n",
        "def initialize_parameters(number_of_neurons,number_hidden_layers,k,layers,initialization):\n",
        "  parameters={}\n",
        "  parameters['W'+str(1)]=init(layers[0],image_size,initialization)\n",
        "  parameters['b'+str(1)]=init(layers[0],1,initialization)\n",
        "  for i in range(1,number_hidden_layers):\n",
        "    parameters['W'+str(i+1)]=init(layers[i],layers[i-1],initialization)\n",
        "    parameters['b'+str(i+1)]=init(layers[i],1,initialization)\n",
        "  parameters['W'+str(number_hidden_layers+1)]=init(k,layers[-1],initialization)\n",
        "  parameters['b'+str(number_hidden_layers+1)]=init(k,1,initialization)\n",
        "  return parameters\n"
      ]
    },
    {
      "cell_type": "code",
      "execution_count": 10,
      "metadata": {
        "id": "OD0le4R0Rxad"
      },
      "outputs": [],
      "source": [
        "def feed_forward(number_hidden_layers,parameters,hidden_layer_size,k,data,function):\n",
        "  activation={}\n",
        "  pre_activation={}\n",
        "\n",
        "  activation['h0']=data.reshape(784,1)\n",
        "  for i in range(1,number_hidden_layers+1):\n",
        "    a=np.add(parameters['b'+str(i)],np.matmul(parameters['W'+str(i)],activation['h'+str(i-1)]))\n",
        "    h=activation_function(function,a)\n",
        "    #print(h.shape)\n",
        "    #h=sigmoid(a)\n",
        "    pre_activation['a'+str(i)]=a\n",
        "    activation['h'+str(i)]=h\n",
        "  \n",
        "  a=np.add(parameters['b'+str(number_hidden_layers+1)],np.matmul(parameters['W'+str(number_hidden_layers+1)],activation['h'+str(number_hidden_layers)]))\n",
        "  h=softmax(a)\n",
        "  pre_activation['a'+str(number_hidden_layers+1)]=a\n",
        "  activation['h'+str(number_hidden_layers+1)]=h\n",
        "  \n",
        "  return h,activation,pre_activation\n",
        "\n"
      ]
    },
    {
      "cell_type": "code",
      "execution_count": 11,
      "metadata": {
        "id": "gcYvTmD09HAY"
      },
      "outputs": [],
      "source": [
        "#h:: activation a=:preactivation\n",
        "def back_propogation(parameters,activation,pre_activation,X,y,number_hidden_layers,predicted_y,k,lamda,function):\n",
        "\n",
        "  gradient_parameters,gradient_activation,gradient_preactivation={},{},{}\n",
        "\n",
        "  #compute output gradient\n",
        "  e_y=np.zeros((k,1))\n",
        "  e_y[y][0]=1\n",
        "  gradient_preactivation['a'+str(number_hidden_layers+1)]=-(e_y-predicted_y)\n",
        "\n",
        "  for t in range(number_hidden_layers+1,0,-1):\n",
        "    #compute gradients w.r.t parameters\n",
        "    gradient_parameters['W'+str(t)]=np.matmul(gradient_preactivation['a'+str(t)],activation['h'+str(t-1)].T) \n",
        "    gradient_parameters['b'+str(t)]=gradient_preactivation['a'+str(t)]\n",
        "    #print(t,gradient_parameters['W'+str(t)])\n",
        "    if(t==1):break\n",
        "    #compute gradients w.r.t layers below\n",
        "    gradient_activation['h'+str(t-1)]=np.matmul(parameters['W'+str(t)].T,gradient_preactivation['a'+str(t)])\n",
        "\n",
        "    #compute gradients w.r.t preactivation layer\n",
        "    gradient_preactivation['a'+str(t-1)]=np.multiply(gradient_activation['h'+str(t-1)],activation_function(function,pre_activation['a'+str(t-1)],True))\n",
        "  #print(pre_activation)\n",
        "  return gradient_parameters"
      ]
    },
    {
      "cell_type": "code",
      "execution_count": 12,
      "metadata": {
        "id": "JiUENjXlKNZN"
      },
      "outputs": [],
      "source": [
        "def update_parameters(parameters,gradient_change,learning_rate):\n",
        "  for i in range(1,len(parameters)//2+1):\n",
        "    parameters['W'+str(i)]=parameters['W'+str(i)]-learning_rate*gradient_change['W'+str(i)]\n",
        "    parameters['b'+str(i)]=parameters['b'+str(i)]-learning_rate*gradient_change['b'+str(i)]\n",
        "  return parameters\n",
        "\n",
        "def update_parameters_momentum(parameters,gradient_change,prior_updates,learning_rate,beta):\n",
        "  for i in range(1,len(parameters)//2+1):\n",
        "    prior_updates['W'+str(i)]=beta*prior_updates['W'+str(i)]+gradient_change['W'+str(i)]\n",
        "    parameters['W'+str(i)]=parameters['W'+str(i)]-learning_rate*prior_updates['W'+str(i)]\n",
        "\n",
        "    prior_updates['b'+str(i)]=beta*prior_updates['b'+str(i)]+gradient_change['b'+str(i)]\n",
        "    parameters['b'+str(i)]=parameters['b'+str(i)]-learning_rate*prior_updates['b'+str(i)]\n",
        "  return parameters,prior_updates\n",
        "\n",
        "def update_parameters_rmsprop(parameters,gradient_change,prior_updates,learning_rate,beta):\n",
        "  epsilon=1e-9\n",
        "  for i in range(1,len(parameters)//2+1):\n",
        "    prior_updates['W'+str(i)]=beta*prior_updates['W'+str(i)]+(1-beta)*(gradient_change['W'+str(i)])**2\n",
        "    parameters['W'+str(i)]=parameters['W'+str(i)]-gradient_change['W'+str(i)]*(learning_rate/np.sqrt(prior_updates['W'+str(i)]+epsilon))\n",
        "\n",
        "    prior_updates['b'+str(i)]=beta*prior_updates['b'+str(i)]+(1-beta)*(gradient_change['b'+str(i)])**2\n",
        "    parameters['b'+str(i)]=parameters['b'+str(i)]-gradient_change['b'+str(i)]*(learning_rate/np.sqrt(prior_updates['b'+str(i)]+epsilon))\n",
        "  return parameters,prior_updates\n",
        "\n",
        "\n",
        "\n"
      ]
    },
    {
      "cell_type": "code",
      "execution_count": 13,
      "metadata": {
        "id": "DhCxKpquqDHd"
      },
      "outputs": [],
      "source": [
        "def gradient_descent_nag(number_hidden_layers,hidden_layer_size,batch_size,max_epochs,X,y,k,optimizer,learning_rate,beta,layers,initialization,lamda,function):\n",
        "  parameters=initialize_parameters(hidden_layer_size,number_hidden_layers,k,layers,initialization)\n",
        "  prior_updates=initialize_parameters(hidden_layer_size,number_hidden_layers,k,layers,'zero')\n",
        "  updates=initialize_parameters(hidden_layer_size,number_hidden_layers,k,layers,'zero')\n",
        "  temp=initialize_parameters(hidden_layer_size,number_hidden_layers,k,layers,'zero')\n",
        "  for epoch in range(max_epochs):\n",
        "    loss,cnt=0,0\n",
        "    for it in range(1,len(parameters)//2+1):\n",
        "      updates['W'+str(it)]=prior_updates['W'+str(it)]*beta\n",
        "      updates['b'+str(it)]=prior_updates['b'+str(it)]*beta\n",
        "    \n",
        "    for it in range(1,len(parameters)//2+1):\n",
        "      temp['W'+str(it)]=parameters['W'+str(it)]-updates['W'+str(it)]\n",
        "      temp['b'+str(it)]=parameters['b'+str(it)]-updates['b'+str(it)]\n",
        "    \n",
        "    for i in range(len(X)):\n",
        "      predicted_y,activation,pre_activation=feed_forward(number_hidden_layers,temp,hidden_layer_size,k,X[i],function)\n",
        "      loss+=cross_entropy(one_hot(train_labels[i]),predicted_y)\n",
        "      gradient_parameters=back_propogation(temp,activation,pre_activation,X[i],y[i],number_hidden_layers,predicted_y,k,lamda,function)\n",
        "      \n",
        "      if(cnt==0):\n",
        "        gradient_change=initialize_parameters(hidden_layer_size,number_hidden_layers,k,layers,'zero')\n",
        "      else:\n",
        "        for iter in range(1,len(parameters)//2+1):\n",
        "          gradient_change['W'+str(iter)]+=gradient_parameters['W'+str(iter)]\n",
        "          gradient_change['b'+str(iter)]+=gradient_parameters['b'+str(iter)]\n",
        "      cnt+=1\n",
        "\n",
        "      if(cnt%batch_size==0 or i==len(X)-1):\n",
        "        if(lamda!=0):\n",
        "          for it in range(1,len(parameters)//2+1):\n",
        "            gradient_change['W'+str(it)]+=np.dot(lamda,parameters['W'+str(it)])\n",
        "\n",
        "        t=cnt if (i==len(X)-1) else batch_size\n",
        "        for it in range(1,len(parameters)//2+1):\n",
        "          gradient_change['W'+str(it)]=gradient_change['W'+str(it)]/t\n",
        "          gradient_change['b'+str(it)]=gradient_change['b'+str(it)]/t\n",
        "        cnt=0\n",
        "\n",
        "        #update rule\n",
        "        for it in range(1,len(parameters)//2+1):\n",
        "          updates['W'+str(it)]=beta*prior_updates['W'+str(it)]+learning_rate*gradient_change['W'+str(it)]\n",
        "          parameters['W'+str(it)]=parameters['W'+str(it)]-updates['W'+str(it)]\n",
        "          temp['W'+str(it)]=parameters['W'+str(it)]\n",
        "          prior_updates['W'+str(it)]=updates['W'+str(it)]\n",
        "\n",
        "          updates['b'+str(it)]=beta*prior_updates['b'+str(it)]+learning_rate*gradient_change['b'+str(it)]\n",
        "          parameters['b'+str(it)]=parameters['b'+str(it)]-updates['b'+str(it)]\n",
        "          temp['b'+str(it)]=parameters['b'+str(it)]\n",
        "          prior_updates['b'+str(it)]=updates['b'+str(it)]\n",
        "    l2regularizedloss=l2loss(parameters,lamda)\n",
        "    loss+=l2regularizedloss\n",
        "    print(epoch,loss/len(X))\n",
        "    validation_loss(val_images_X,val_labels,parameters,lamda)\n",
        "    \n",
        "  return parameters\n"
      ]
    },
    {
      "cell_type": "code",
      "source": [
        "\n",
        "def gradient_descent_sgd(number_hidden_layers,hidden_layer_size,batch_size,max_epochs,X,y,k,optimizer,learning_rate,beta,layers,initialization,lamda,function):\n",
        "  parameters=initialize_parameters(hidden_layer_size,number_hidden_layers,k,layers,initialization)\n",
        "  for epoch in range(max_epochs):\n",
        "    loss=0\n",
        "    cnt=0\n",
        "    for i in range(len(X)):\n",
        "      predicted_y,activation,pre_activation=feed_forward(number_hidden_layers,parameters,hidden_layer_size,k,X[i],function)\n",
        "      loss+=cross_entropy(one_hot(train_labels[i]),predicted_y)\n",
        "      gradient_parameters=back_propogation(parameters,activation,pre_activation,X[i],y[i],number_hidden_layers,predicted_y,k,lamda,function)\n",
        "    \n",
        "      if(cnt==0):\n",
        "        gradient_change={}\n",
        "        gradient_change=gradient_parameters.copy()\n",
        "\n",
        "      else:\n",
        "        for iter in range(1,len(parameters)//2+1):\n",
        "          gradient_change['W'+str(iter)]+=gradient_parameters['W'+str(iter)]\n",
        "          gradient_change['b'+str(iter)]+=gradient_parameters['b'+str(iter)]\n",
        "      cnt+=1\n",
        "      \n",
        "      if(cnt%batch_size==0 or i==len(X)-1):\n",
        "        t=cnt if (i==len(X)-1) else batch_size\n",
        "\n",
        "        if(lamda!=0):\n",
        "           for it in range(1,len(parameters)//2+1):\n",
        "             gradient_change['W'+str(it)]+=np.dot(lamda,parameters['W'+str(it)])\n",
        "\n",
        "        for it in range(1,len(parameters)//2+1):\n",
        "          gradient_change['W'+str(it)]=gradient_change['W'+str(it)]/t\n",
        "          gradient_change['b'+str(it)]=gradient_change['b'+str(it)]/t\n",
        "        cnt=0\n",
        "        parameters=update_parameters(parameters,gradient_change,learning_rate)\n",
        "    l2regularizedloss=l2loss(parameters,lamda)\n",
        "    loss+=l2regularizedloss\n",
        "    print(epoch,loss/len(X))\n",
        "    validation_loss(val_images_X,val_labels,parameters,lamda)\n",
        "  return parameters\n"
      ],
      "metadata": {
        "id": "UEuMQiwAjOUw"
      },
      "execution_count": 14,
      "outputs": []
    },
    {
      "cell_type": "code",
      "execution_count": 15,
      "metadata": {
        "id": "fh348aaImAeB"
      },
      "outputs": [],
      "source": [
        "def gradient_descent_momentum(number_hidden_layers,hidden_layer_size,batch_size,max_epochs,X,y,k,optimizer,learning_rate,beta,layers,initialization,lamda,function):\n",
        "  parameters=initialize_parameters(hidden_layer_size,number_hidden_layers,k,layers,initialization)\n",
        "  for epoch in range(max_epochs):\n",
        "    loss=0\n",
        "    cnt=0\n",
        "    for i in range(len(X)):\n",
        "      predicted_y,activation,pre_activation=feed_forward(number_hidden_layers,parameters,hidden_layer_size,k,X[i],function)\n",
        "      #print(activation['h4'])\n",
        "      \n",
        "      loss+=cross_entropy(one_hot(train_labels[i]),predicted_y)\n",
        "      gradient_parameters=back_propogation(parameters,activation,pre_activation,X[i],y[i],number_hidden_layers,predicted_y,k,lamda,function)\n",
        "      if( epoch==0 and i==0):\n",
        "        #initialize with zero\n",
        "        prior_updates=initialize_parameters(hidden_layer_size,number_hidden_layers,k,layers,'zero')\n",
        "\n",
        "      if(cnt==0):\n",
        "        gradient_change={}\n",
        "        gradient_change=gradient_parameters.copy()\n",
        "\n",
        "      else:\n",
        "        for iter in range(1,len(parameters)//2+1):\n",
        "          gradient_change['W'+str(iter)]+=gradient_parameters['W'+str(iter)]\n",
        "          gradient_change['b'+str(iter)]+=gradient_parameters['b'+str(iter)]\n",
        "      cnt+=1\n",
        "      \n",
        "      if(cnt%batch_size==0 or i==len(X)-1):\n",
        "        t=cnt if (i==len(X)-1) else batch_size\n",
        "\n",
        "        \n",
        "        if(lamda!=0):\n",
        "          for it in range(1,len(parameters)//2+1):\n",
        "            gradient_change['W'+str(it)]+=np.dot(lamda,parameters['W'+str(it)])\n",
        "\n",
        "        for it in range(1,len(parameters)//2+1):\n",
        "          gradient_change['W'+str(it)]=gradient_change['W'+str(it)]/t\n",
        "          gradient_change['b'+str(it)]=gradient_change['b'+str(it)]/t\n",
        "        cnt=0\n",
        "        parameters,prior_updates=update_parameters_momentum(parameters,gradient_change,prior_updates,learning_rate,beta)\n",
        "    l2regularizedloss=l2loss(parameters,lamda)\n",
        "    loss+=l2regularizedloss\n",
        "    print(epoch,loss/len(X))\n",
        "    validation_loss(val_images_X,val_labels,parameters,lamda)\n",
        "    \n",
        "  return parameters\n"
      ]
    },
    {
      "cell_type": "code",
      "source": [
        "\n",
        "def gradient_descent_rmsprop(number_hidden_layers,hidden_layer_size,batch_size,max_epochs,X,y,k,optimizer,learning_rate,beta,layers,initialization,lamda,function):\n",
        "  parameters=initialize_parameters(hidden_layer_size,number_hidden_layers,k,layers,initialization)\n",
        "  for epoch in range(max_epochs):\n",
        "    loss=0\n",
        "    cnt=0\n",
        "    for i in range(len(X)):\n",
        "      predicted_y,activation,pre_activation=feed_forward(number_hidden_layers,parameters,hidden_layer_size,k,X[i],function)\n",
        "      #print(activation['h4'])\n",
        "      \n",
        "      loss+=cross_entropy(one_hot(train_labels[i]),predicted_y)\n",
        "      gradient_parameters=back_propogation(parameters,activation,pre_activation,X[i],y[i],number_hidden_layers,predicted_y,k,lamda,function)\n",
        "      if( epoch==0 and i==0):\n",
        "        #initialize with zero\n",
        "        prior_updates=initialize_parameters(hidden_layer_size,number_hidden_layers,k,layers,'zero')\n",
        "\n",
        "      if(cnt==0):\n",
        "        gradient_change={}\n",
        "        gradient_change=gradient_parameters.copy()\n",
        "\n",
        "      else:\n",
        "        for iter in range(1,len(parameters)//2+1):\n",
        "          gradient_change['W'+str(iter)]+=gradient_parameters['W'+str(iter)]\n",
        "          gradient_change['b'+str(iter)]+=gradient_parameters['b'+str(iter)]\n",
        "      cnt+=1\n",
        "      \n",
        "      if(cnt%batch_size==0 or i==len(X)-1):\n",
        "        t=cnt if (i==len(X)-1) else batch_size\n",
        "\n",
        "        \n",
        "        if(lamda!=0):\n",
        "          for it in range(1,len(parameters)//2+1):\n",
        "            gradient_change['W'+str(it)]+=np.dot(lamda,parameters['W'+str(it)])\n",
        "\n",
        "        for it in range(1,len(parameters)//2+1):\n",
        "          gradient_change['W'+str(it)]=gradient_change['W'+str(it)]/t\n",
        "          gradient_change['b'+str(it)]=gradient_change['b'+str(it)]/t\n",
        "        cnt=0\n",
        "        parameters,prior_updates=update_parameters_rmsprop(parameters,gradient_change,prior_updates,learning_rate,beta)\n",
        "    l2regularizedloss=l2loss(parameters,lamda)\n",
        "    loss+=l2regularizedloss\n",
        "    print(epoch,loss/len(X))\n",
        "    validation_loss(val_images_X,val_labels,parameters,lamda)\n",
        "  return parameters\n"
      ],
      "metadata": {
        "id": "0RJThIwHzaNu"
      },
      "execution_count": 16,
      "outputs": []
    },
    {
      "cell_type": "code",
      "execution_count": 17,
      "metadata": {
        "id": "TFM7Jy9wWckQ"
      },
      "outputs": [],
      "source": [
        "def gradient_descent_adam(number_hidden_layers,hidden_layer_size,batch_size,max_epochs,X,y,k,optimizer,learning_rate,beta,layers,initialization,lamda,function):\n",
        "  beta1=0.9\n",
        "  beta2=0.99\n",
        "  parameters=initialize_parameters(hidden_layer_size,number_hidden_layers,k,layers,initialization)\n",
        "  momentum=initialize_parameters(hidden_layer_size,number_hidden_layers,k,layers,'zero')\n",
        "  momentum_hat=initialize_parameters(hidden_layer_size,number_hidden_layers,k,layers,'zero')\n",
        "  update=initialize_parameters(hidden_layer_size,number_hidden_layers,k,layers,'zero')\n",
        "  update_hat=initialize_parameters(hidden_layer_size,number_hidden_layers,k,layers,'zero')\n",
        "\n",
        "  for epoch in range(max_epochs):\n",
        "    loss=0\n",
        "    cnt=0\n",
        "    epsilon=1e-10\n",
        "    for i in range(len(X)):\n",
        "      predicted_y,activation,pre_activation=feed_forward(number_hidden_layers,parameters,hidden_layer_size,k,X[i],function)\n",
        "      loss+=cross_entropy(one_hot(train_labels[i]),predicted_y)\n",
        "      gradient_parameters=back_propogation(parameters,activation,pre_activation,X[i],y[i],number_hidden_layers,predicted_y,k,lamda,function)\n",
        "      if(cnt==0):\n",
        "        gradient_change={}\n",
        "        gradient_change=gradient_parameters.copy()\n",
        "\n",
        "      else:\n",
        "        for iter in range(1,len(parameters)//2+1):\n",
        "          gradient_change['W'+str(iter)]+=gradient_parameters['W'+str(iter)]\n",
        "          gradient_change['b'+str(iter)]+=gradient_parameters['b'+str(iter)]\n",
        "      cnt+=1\n",
        "      \n",
        "      if(cnt%batch_size==0 or i==len(X)-1):\n",
        "\n",
        "        if(lamda!=0):\n",
        "          for it in range(1,len(parameters)//2+1):\n",
        "            gradient_change['W'+str(it)]+=np.dot(lamda,parameters['W'+str(it)])\n",
        "\n",
        "        t=cnt if (i==len(X)-1) else batch_size\n",
        "        for it in range(1,len(parameters)//2+1):\n",
        "          gradient_change['W'+str(it)]=gradient_change['W'+str(it)]/t\n",
        "          gradient_change['b'+str(it)]=gradient_change['b'+str(it)]/t\n",
        "        \n",
        "        cnt=0\n",
        "        for it in range(1,len(parameters)//2+1):\n",
        "          momentum['W'+str(it)]=beta1*momentum['W'+str(it)]+(1-beta1)*gradient_change['W'+str(it)]\n",
        "          momentum['b'+str(it)]=beta1*momentum['b'+str(it)]+(1-beta1)*gradient_change['b'+str(it)]\n",
        "          momentum_hat['W'+str(it)]=momentum['W'+str(it)]/(1-beta1**(epoch+1))\n",
        "          momentum_hat['b'+str(it)]=momentum['b'+str(it)]/(1-beta1**(epoch+1))\n",
        "\n",
        "        for it in range(1,len(parameters)//2+1):\n",
        "          update['W'+str(it)]=beta2*update['W'+str(it)]+(1-beta2)*gradient_change['W'+str(it)]**2\n",
        "          update['b'+str(it)]=beta2*update['b'+str(it)]+(1-beta2)*gradient_change['b'+str(it)]**2\n",
        "          update_hat['W'+str(it)]=update['W'+str(it)]/(1-beta2**(epoch+1))\n",
        "          update_hat['b'+str(it)]=update['b'+str(it)]/(1-beta2**(epoch+1))\n",
        "\n",
        "        if(optimizer=='adam'):\n",
        "          for it in range(1,len(parameters)//2+1):\n",
        "            parameters['W'+str(it)]=parameters['W'+str(it)]-(learning_rate*momentum_hat['W'+str(it)]/np.sqrt(update_hat['W'+str(it)]+epsilon))\n",
        "            parameters['b'+str(it)]=parameters['b'+str(it)]-(learning_rate*momentum_hat['b'+str(it)]/np.sqrt(update_hat['b'+str(it)]+epsilon))\n",
        "        else:\n",
        "          for it in range(1,len(parameters)//2+1):\n",
        "            parameters['W'+str(it)]=parameters['W'+str(it)]-(learning_rate/np.sqrt(update_hat['W'+str(it)]+epsilon))*(beta1*momentum_hat['W'+str(it)]+(1-beta1)*gradient_change['W'+str(it)]/(1-beta1**(epoch+1)))\n",
        "            parameters['b'+str(it)]=parameters['b'+str(it)]-(learning_rate/np.sqrt(update_hat['b'+str(it)]+epsilon))*(beta1*momentum_hat['b'+str(it)]+(1-beta1)*gradient_change['b'+str(it)]/(1-beta1**(epoch+1)))\n",
        "    \n",
        "    l2regularizedloss=l2loss(parameters,lamda)\n",
        "    loss+=l2regularizedloss\n",
        "    print(epoch,loss/len(X))\n",
        "    validation_loss(val_images_X,val_labels,parameters,lamda)\n",
        "   \n",
        "  return parameters\n"
      ]
    },
    {
      "cell_type": "code",
      "execution_count": 18,
      "metadata": {
        "id": "IzMicXj7O703"
      },
      "outputs": [],
      "source": [
        "layers=[32,32,32,64]"
      ]
    },
    {
      "cell_type": "code",
      "execution_count": null,
      "metadata": {
        "id": "CrHjzVXPMqZo"
      },
      "outputs": [],
      "source": [
        "number_hidden_layers=4\n",
        "hidden_layer_size=32\n",
        "batch_size=32\n",
        "max_epochs=3\n",
        "k=10\n",
        "optimizer='nag'\n",
        "function='tanh'\n",
        "learning_rate=0.01\n",
        "beta=0.9\n",
        "lamda=0.5\n",
        "initialization='normal'\n",
        "params=gradient_descent_nag(number_hidden_layers,hidden_layer_size,batch_size,max_epochs,train_images_X,train_labels,k,optimizer,learning_rate,beta,layers,initialization,lamda,function)"
      ]
    },
    {
      "cell_type": "code",
      "execution_count": 21,
      "metadata": {
        "id": "AG4r7KxAiO_r"
      },
      "outputs": [],
      "source": [
        "def accuracy(X,y,params):\n",
        "  cnt=0\n",
        "  for i in range(len(X)):\n",
        "    predicted_y,activation,pre_activation=feed_forward(number_hidden_layers,params,hidden_layer_size,k,X[i],function)\n",
        "    if(np.argmax(predicted_y)==y[i]):\n",
        "      cnt+=1\n",
        "  print(cnt/len(X)*100)"
      ]
    },
    {
      "cell_type": "code",
      "execution_count": null,
      "metadata": {
        "id": "bIp_tS8NmA2V"
      },
      "outputs": [],
      "source": [
        "accuracy(train_images_X,train_labels,params)"
      ]
    },
    {
      "cell_type": "code",
      "execution_count": 22,
      "metadata": {
        "colab": {
          "base_uri": "https://localhost:8080/"
        },
        "id": "h0iZ_1mhZxR9",
        "outputId": "3532e698-37ec-4672-ff2c-9cda4cf888ab"
      },
      "outputs": [
        {
          "output_type": "stream",
          "name": "stdout",
          "text": [
            "78.86\n"
          ]
        }
      ],
      "source": [
        "accuracy(test_images_X,test_labels,params)"
      ]
    },
    {
      "cell_type": "code",
      "source": [],
      "metadata": {
        "id": "7VoHBLyXc9SX"
      },
      "execution_count": null,
      "outputs": []
    }
  ],
  "metadata": {
    "colab": {
      "provenance": []
    },
    "gpuClass": "standard",
    "kernelspec": {
      "display_name": "Python 3",
      "name": "python3"
    },
    "language_info": {
      "name": "python"
    }
  },
  "nbformat": 4,
  "nbformat_minor": 0
}